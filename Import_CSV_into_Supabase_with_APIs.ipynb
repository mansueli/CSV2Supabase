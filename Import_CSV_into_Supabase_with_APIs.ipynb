{
  "nbformat": 4,
  "nbformat_minor": 0,
  "metadata": {
    "colab": {
      "provenance": [],
      "authorship_tag": "ABX9TyOtJ22F3p0ikug6k7KiSLt6",
      "include_colab_link": true
    },
    "kernelspec": {
      "name": "python3",
      "display_name": "Python 3"
    },
    "language_info": {
      "name": "python"
    }
  },
  "cells": [
    {
      "cell_type": "markdown",
      "metadata": {
        "id": "view-in-github",
        "colab_type": "text"
      },
      "source": [
        "<a href=\"https://colab.research.google.com/github/mansueli/CSV2Supabase/blob/main/Import_CSV_into_Supabase_with_APIs.ipynb\" target=\"_parent\"><img src=\"https://colab.research.google.com/assets/colab-badge.svg\" alt=\"Open In Colab\"/></a>"
      ]
    },
    {
      "cell_type": "markdown",
      "source": [
        "![Supabase](https://raw.githubusercontent.com/supabase/supabase/master/packages/common/assets/images/supabase-logo-wordmark--light.svg)\n",
        "\n"
      ],
      "metadata": {
        "id": "8M6zGz3z1DCl"
      }
    },
    {
      "cell_type": "markdown",
      "source": [
        "## Installing Supabase:"
      ],
      "metadata": {
        "id": "kBNKHojBe1Pk"
      }
    },
    {
      "cell_type": "code",
      "execution_count": 2,
      "metadata": {
        "id": "mVN8YKRIeo6e"
      },
      "outputs": [],
      "source": [
        "!pip install supabase > /dev/null #this last part is just to reduce clutter/install logs."
      ]
    },
    {
      "cell_type": "markdown",
      "source": [
        "### Configuring Supabase env variables:"
      ],
      "metadata": {
        "id": "DbgrWhelfNqa"
      }
    },
    {
      "cell_type": "code",
      "source": [
        "SUPABASE_URL=\"https://XXXX.supabase.co\"\n",
        "SUPABASE_KEY=\"xxxx\"\n",
        "TABLE_NAME=\"assets\""
      ],
      "metadata": {
        "id": "NtZNV9rxfRS8"
      },
      "execution_count": 4,
      "outputs": []
    },
    {
      "cell_type": "markdown",
      "source": [
        "## Uploading the CSV File:"
      ],
      "metadata": {
        "id": "vJgvAYEYfisp"
      }
    },
    {
      "cell_type": "code",
      "source": [
        "from google.colab import files\n",
        "import os\n",
        "import csv\n",
        "local_files =  [f for f in os.listdir(\".\") if os.path.isfile(f)]\n",
        "for f in local_files:\n",
        "  os.remove(f)\n",
        "uploaded = files.upload()\n",
        "file_name = list(uploaded.keys())[0]"
      ],
      "metadata": {
        "id": "ZFtKsn5J71Iy"
      },
      "execution_count": null,
      "outputs": []
    },
    {
      "cell_type": "markdown",
      "source": [
        "## Importing into Supabase:"
      ],
      "metadata": {
        "id": "depxCDB4hBTV"
      }
    },
    {
      "cell_type": "code",
      "source": [
        "from supabase import create_client, Client\n",
        "from supabase.lib.client_options import ClientOptions\n",
        "import pandas as pd\n",
        "import json\n",
        "import numpy as np\n",
        "\n",
        "client_options = ClientOptions(timeout=60)\n",
        "supabase = create_client(SUPABASE_URL, SUPABASE_KEY, options=client_options)\n",
        "df = pd.read_csv(file_name)\n",
        " \n",
        "for chunk in np.array_split(df, 10):\n",
        "  js_string = chunk.to_json(orient='records')\n",
        "  json = json.loads(js_string)\n",
        "  supabase.table(TABLE_NAME).insert(json).execute()"
      ],
      "metadata": {
        "id": "riV9xd9g7pqh"
      },
      "execution_count": null,
      "outputs": []
    }
  ]
}